{
 "cells": [
  {
   "cell_type": "markdown",
   "metadata": {},
   "source": [
    "## Imports"
   ]
  },
  {
   "cell_type": "code",
   "execution_count": 102,
   "metadata": {},
   "outputs": [],
   "source": [
    "import os\n",
    "import wave\n",
    "import numpy as np"
   ]
  },
  {
   "cell_type": "markdown",
   "metadata": {},
   "source": [
    "## Deleteing unneeded folders"
   ]
  },
  {
   "cell_type": "code",
   "execution_count": 2,
   "metadata": {},
   "outputs": [],
   "source": [
    "mainFolderLocation = \"ABI-1 Corpus/accents/\"\n",
    "listOfAccents = os.listdir(mainFolderLocation)\n",
    "\n",
    "# Goes through list of accent folders\n",
    "for accent in listOfAccents:\n",
    "    accentFolderLocation = mainFolderLocation + accent + \"/\"\n",
    "    if accent == \".DS_Store\":\n",
    "        os.remove(accentFolderLocation)\n",
    "\n",
    "    accentContent = os.listdir(accentFolderLocation)\n",
    "\n",
    "    # Goes through list of gender folders\n",
    "    for genders in accentContent:\n",
    "        genderFolderLocation = accentFolderLocation + genders + \"/\"\n",
    "        if genders == \".DS_Store\":\n",
    "          os.remove(genderFolderLocation)\n",
    "\n",
    "        genderContent = os.listdir(genderFolderLocation)\n",
    "        \n",
    "        # Goes through list of participant folders\n",
    "        for participant in genderContent:\n",
    "            participantFolderLocation = genderFolderLocation + participant + \"/\"\n",
    "            if participant == \".DS_Store\":\n",
    "                os.remove(participantFolderLocation)\n",
    "\n",
    "            participantContent = os.listdir(participantFolderLocation)\n",
    "\n",
    "            for file in participantContent:\n",
    "                fileAddress = participantFolderLocation + file\n",
    "                if file[-3:] != \"wav\":\n",
    "                    os.remove(fileAddress)\n",
    "\n",
    "                if file[:12] != \"shortpassage\":\n",
    "                    os.remove(fileAddress)\n"
   ]
  },
  {
   "cell_type": "markdown",
   "metadata": {},
   "source": [
    "## Obtaining List of directories"
   ]
  },
  {
   "cell_type": "code",
   "execution_count": 3,
   "metadata": {},
   "outputs": [],
   "source": [
    "def getSpeakerRoots(datapath = \"ABI-1 Corpus\\\\accents\"):\n",
    "    speakerList = []\n",
    "    accentSubfolder = [f.path for f in os.scandir(datapath) if f.is_dir()]\n",
    "    for accent in accentSubfolder:\n",
    "        for gender in [\"female\", \"male\"]:\n",
    "            speakerFolders = os.listdir(os.path.join(accent, gender))\n",
    "            for speaker in speakerFolders:\n",
    "                if not speaker.startswith(\".\"):\n",
    "                    speakerList.append(os.path.join(accent, gender, speaker))\n",
    "        \n",
    "    return speakerList"
   ]
  },
  {
   "cell_type": "code",
   "execution_count": 4,
   "metadata": {},
   "outputs": [],
   "source": [
    "speakerList = getSpeakerRoots()"
   ]
  },
  {
   "cell_type": "markdown",
   "metadata": {},
   "source": [
    "## Getting .wav files"
   ]
  },
  {
   "cell_type": "code",
   "execution_count": 5,
   "metadata": {},
   "outputs": [],
   "source": [
    "def getWavFile(datapath):\n",
    "    files = os.listdir(datapath)\n",
    "    filesWav = [i for i in files if i.endswith(\".wav\")]\n",
    "    return filesWav"
   ]
  },
  {
   "cell_type": "code",
   "execution_count": 6,
   "metadata": {},
   "outputs": [],
   "source": [
    "speakers = []\n",
    "for i in speakerList:\n",
    "    speakers.append(i[-6:])\n",
    "\n",
    "speakerFilePairs = {}\n",
    "for i in range(len(speakers)):\n",
    "    if speakers[i] in speakerFilePairs:\n",
    "        speakerFilePairs[speakers[i] + \"-1\"] = [getWavFile(speakerList[i]), speakerList[i]]\n",
    "    else:\n",
    "        speakerFilePairs[speakers[i]] = [getWavFile(speakerList[i]), speakerList[i]]"
   ]
  },
  {
   "cell_type": "markdown",
   "metadata": {},
   "source": [
    "## Segmenting the data"
   ]
  },
  {
   "cell_type": "code",
   "execution_count": 43,
   "metadata": {},
   "outputs": [],
   "source": [
    "folderName = \"SegmentedDataset\"\n",
    "if os.path.exists(folderName) == False:\n",
    "    os.mkdir(folderName)\n",
    "\n",
    "for speaker in list(speakerFilePairs.keys()):\n",
    "    speakerFolder = folderName + \"\\\\\" + speaker\n",
    "    if os.path.exists(speakerFolder) == False:\n",
    "        os.mkdir(speakerFolder)"
   ]
  },
  {
   "cell_type": "code",
   "execution_count": 136,
   "metadata": {},
   "outputs": [],
   "source": [
    "def splitWavFile(inputFile, seconds):\n",
    "    fileLocation = inputFile[1] + \"\\\\\" + inputFile[0][0]\n",
    "    with wave.open(fileLocation, \"rb\") as wavFile:\n",
    "        params = wavFile.getparams()\n",
    "        sampleRate = params.framerate\n",
    "        totalFrames = params.nframes\n",
    "\n",
    "        # Calculate the number of frames per segment\n",
    "        framesPerSegment = int(seconds * sampleRate)\n",
    "        totalSegment = totalFrames // framesPerSegment\n",
    "        \n",
    "        for segmentIndex in range(totalSegment):\n",
    "            startFrame = segmentIndex * framesPerSegment\n",
    "            endFrame = (segmentIndex+1) * framesPerSegment\n",
    "\n",
    "            wavFile.setpos(startFrame)\n",
    "            audioData = np.frombuffer(wavFile.readframes(framesPerSegment), dtype=np.int16)\n",
    "            outputFile = \"SegmentedDataset\\\\\" + inputFile[1][-6:] + \"\\\\chunk\" + str(segmentIndex) + \".wav\"\n",
    "\n",
    "            with wave.open(outputFile, \"wb\") as outputWav:\n",
    "                outputWav.setparams(params)\n",
    "                outputWav.writeframes(audioData.tobytes())"
   ]
  },
  {
   "cell_type": "code",
   "execution_count": 139,
   "metadata": {},
   "outputs": [],
   "source": [
    "indexes = list(speakerFilePairs.keys())\n",
    "for index in indexes:\n",
    "    splitWavFile(speakerFilePairs[index], 3)"
   ]
  }
 ],
 "metadata": {
  "kernelspec": {
   "display_name": "base",
   "language": "python",
   "name": "python3"
  },
  "language_info": {
   "codemirror_mode": {
    "name": "ipython",
    "version": 3
   },
   "file_extension": ".py",
   "mimetype": "text/x-python",
   "name": "python",
   "nbconvert_exporter": "python",
   "pygments_lexer": "ipython3",
   "version": "3.9.13"
  }
 },
 "nbformat": 4,
 "nbformat_minor": 2
}

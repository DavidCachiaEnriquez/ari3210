{
 "cells": [
  {
   "cell_type": "markdown",
   "metadata": {},
   "source": [
    "## Imports"
   ]
  },
  {
   "cell_type": "code",
   "execution_count": 314,
   "metadata": {},
   "outputs": [],
   "source": [
    "import os\n",
    "import wave\n",
    "import numpy as np"
   ]
  },
  {
   "cell_type": "markdown",
   "metadata": {},
   "source": [
    "## Deleteing unneeded folders"
   ]
  },
  {
   "cell_type": "code",
   "execution_count": 315,
   "metadata": {},
   "outputs": [],
   "source": [
    "mainFolderLocation = \"ABI-1 Corpus/accents/\"\n",
    "listOfAccents = os.listdir(mainFolderLocation)\n",
    "\n",
    "# Goes through list of accent folders\n",
    "for accent in listOfAccents:\n",
    "    accentFolderLocation = mainFolderLocation + accent + \"/\"\n",
    "    if accent == \".DS_Store\":\n",
    "        os.remove(accentFolderLocation)\n",
    "\n",
    "    accentContent = os.listdir(accentFolderLocation)\n",
    "\n",
    "    # Goes through list of gender folders\n",
    "    for genders in accentContent:\n",
    "        genderFolderLocation = accentFolderLocation + genders + \"/\"\n",
    "        if genders == \".DS_Store\":\n",
    "          os.remove(genderFolderLocation)\n",
    "\n",
    "        genderContent = os.listdir(genderFolderLocation)\n",
    "        \n",
    "        # Goes through list of participant folders\n",
    "        for participant in genderContent:\n",
    "            participantFolderLocation = genderFolderLocation + participant + \"/\"\n",
    "            if participant == \".DS_Store\":\n",
    "                os.remove(participantFolderLocation)\n",
    "\n",
    "            participantContent = os.listdir(participantFolderLocation)\n",
    "\n",
    "            for file in participantContent:\n",
    "                fileAddress = participantFolderLocation + file\n",
    "                if file[-3:] != \"wav\":\n",
    "                    os.remove(fileAddress)\n",
    "\n",
    "                if file[:12] != \"shortpassage\":\n",
    "                    os.remove(fileAddress)\n"
   ]
  },
  {
   "cell_type": "markdown",
   "metadata": {},
   "source": [
    "## Obtaining List of directories"
   ]
  },
  {
   "cell_type": "code",
   "execution_count": 316,
   "metadata": {},
   "outputs": [],
   "source": [
    "def getSpeakerRoots(datapath = \"ABI-1 Corpus\\\\accents\"):\n",
    "    speakerList = []\n",
    "    accentSubfolder = [f.path for f in os.scandir(datapath) if f.is_dir()]\n",
    "    for accent in accentSubfolder:\n",
    "        for gender in [\"female\", \"male\"]:\n",
    "            speakerFolders = os.listdir(os.path.join(accent, gender))\n",
    "            for speaker in speakerFolders:\n",
    "                if not speaker.startswith(\".\"):\n",
    "                    speakerList.append(os.path.join(accent, gender, speaker))\n",
    "        \n",
    "    return speakerList"
   ]
  },
  {
   "cell_type": "code",
   "execution_count": 317,
   "metadata": {},
   "outputs": [
    {
     "name": "stdout",
     "output_type": "stream",
     "text": [
      "Hel\n"
     ]
    }
   ],
   "source": [
    "speakerList = getSpeakerRoots()\n",
    "if \"ABI-1 Corpus\\\\accents\\\\roi_001\\\\female\\\\axm001Copy\" in speakerList:\n",
    "    print(\"Hel\")"
   ]
  },
  {
   "cell_type": "markdown",
   "metadata": {},
   "source": [
    "## Getting .wav files"
   ]
  },
  {
   "cell_type": "code",
   "execution_count": 318,
   "metadata": {},
   "outputs": [],
   "source": [
    "def getWavFile(datapath):\n",
    "    files = os.listdir(datapath)\n",
    "    filesWav = [i for i in files if i.endswith(\".wav\")]\n",
    "    return filesWav"
   ]
  },
  {
   "cell_type": "code",
   "execution_count": 319,
   "metadata": {},
   "outputs": [],
   "source": [
    "speakers = []\n",
    "for i in speakerList:\n",
    "    speakers.append(i[i.rfind(\"\\\\\")+1:])\n",
    "\n",
    "speakerFilePairs = {}\n",
    "for i in range(len(speakers)):\n",
    "    speakerFilePairs[speakers[i]] = [getWavFile(speakerList[i]), speakerList[i]]"
   ]
  },
  {
   "cell_type": "markdown",
   "metadata": {},
   "source": [
    "## Segmenting the data"
   ]
  },
  {
   "cell_type": "code",
   "execution_count": 320,
   "metadata": {},
   "outputs": [],
   "source": [
    "folderName = \"SegmentedDataset\"\n",
    "if os.path.exists(folderName) == False:\n",
    "    os.mkdir(folderName)\n",
    "\n",
    "for speaker in list(speakerFilePairs.keys()):\n",
    "    speakerFolder = folderName + \"\\\\\" + speaker\n",
    "    if os.path.exists(speakerFolder) == False:\n",
    "        os.mkdir(speakerFolder)"
   ]
  },
  {
   "cell_type": "code",
   "execution_count": 321,
   "metadata": {},
   "outputs": [],
   "source": [
    "def splitWavFile(inputFile, seconds):\n",
    "    for recording in inputFile[0]:\n",
    "        fileLocation = inputFile[1] + \"\\\\\" + recording\n",
    "        with wave.open(fileLocation, \"rb\") as wavFile:\n",
    "            params = wavFile.getparams()\n",
    "            sampleRate = params.framerate\n",
    "            totalFrames = params.nframes\n",
    "\n",
    "            # Calculate the number of frames per segment\n",
    "            framesPerSegment = seconds * sampleRate\n",
    "            totalSegment = totalFrames // framesPerSegment\n",
    "            \n",
    "            for segmentIndex in range(totalSegment):\n",
    "                startFrame = segmentIndex * framesPerSegment\n",
    "                wavFile.setpos(startFrame)\n",
    "                audioData = np.frombuffer(wavFile.readframes(framesPerSegment), dtype=np.int16)\n",
    "                fileName = inputFile[1][inputFile[1].rfind(\"\\\\\")+1:]\n",
    "                outputFile = \"SegmentedDataset\\\\\" + fileName + \"\\\\chunk\" + str(len(os.listdir(\"SegmentedDataset\\\\\" + fileName))) + \".wav\"\n",
    "\n",
    "                with wave.open(outputFile, \"wb\") as outputWav:\n",
    "                    outputWav.setparams(params)\n",
    "                    outputWav.writeframes(audioData.tobytes())\n",
    "\n",
    "            startFrame = totalSegment*framesPerSegment\n",
    "            wavFile.setpos(startFrame)\n",
    "            audioData = np.frombuffer(wavFile.readframes(framesPerSegment), dtype=np.int16)\n",
    "            outputFile = \"SegmentedDataset\\\\\" + fileName + \"\\\\chunk\" + str(len(os.listdir(\"SegmentedDataset\\\\\" + fileName))) + \".wav\"\n",
    "            \n",
    "            with wave.open(outputFile, \"wb\") as outputWav:\n",
    "                outputWav.setparams(params)\n",
    "                outputWav.writeframes(audioData.tobytes())"
   ]
  },
  {
   "cell_type": "code",
   "execution_count": 322,
   "metadata": {},
   "outputs": [],
   "source": [
    "# rebootFiles = True\n",
    "rebootFiles = False\n",
    "if len(os.listdir(\"SegmentedDataset\")[-1]) == 0 or rebootFiles == True:\n",
    "    indexes = list(speakerFilePairs.keys())\n",
    "\n",
    "    for index in indexes:\n",
    "        folderAddress = \"SegmentedDataset\\\\\" + index + \"\\\\\"\n",
    "        for file in os.listdir(folderAddress):\n",
    "            os.remove(folderAddress + file)\n",
    "    \n",
    "    for index in indexes:\n",
    "        splitWavFile(speakerFilePairs[index], 3)"
   ]
  },
  {
   "cell_type": "markdown",
   "metadata": {},
   "source": [
    "## Getting each data point"
   ]
  },
  {
   "cell_type": "code",
   "execution_count": 326,
   "metadata": {},
   "outputs": [],
   "source": [
    "dataLocations = []\n",
    "for speaker in os.listdir(folderName):\n",
    "    for file in os.listdir(folderName + \"\\\\\" + speaker):\n",
    "        dataLocations.append((speaker, folderName + \"\\\\\" + speaker + \"\\\\\" + file))\n",
    "\n",
    "# print(len(dataLocations))"
   ]
  },
  {
   "cell_type": "code",
   "execution_count": 327,
   "metadata": {},
   "outputs": [
    {
     "name": "stdout",
     "output_type": "stream",
     "text": [
      "Number of Files that dont match:  0\n"
     ]
    }
   ],
   "source": [
    "fileThatDontMatch = []\n",
    "rootFolder = \"ABI-1 Corpus\\\\accents\\\\\"\n",
    "for accent in os.listdir(rootFolder):\n",
    "    accentFolder = rootFolder + accent + \"\\\\\"\n",
    "    for gender in os.listdir(accentFolder):\n",
    "        genderFolder = accentFolder + gender + \"\\\\\"\n",
    "        for speaker in os.listdir(genderFolder):\n",
    "\n",
    "            address = genderFolder + speaker + \"\\\\\"\n",
    "            if speaker == \"axm001-1\":\n",
    "                # Actual\n",
    "                listOfFiles = os.listdir(address)\n",
    "                actualTotal = 0\n",
    "                for i in listOfFiles:\n",
    "                    with wave.open(address + i, 'rb') as wav_file:\n",
    "                        num_frames = wav_file.getnframes()\n",
    "                        frame_rate = wav_file.getframerate()\n",
    "                        duration = num_frames / float(frame_rate)\n",
    "                        actualTotal += duration\n",
    "                \n",
    "                print(actualTotal)\n",
    "\n",
    "                # Chunks\n",
    "                address = \"SegmentedDataset\\\\\" + speaker + \"\\\\\"\n",
    "                listOfFiles = os.listdir(address)\n",
    "                chunksTotal = 0\n",
    "                for i in listOfFiles:\n",
    "                    with wave.open(address + i, 'rb') as wav_file:\n",
    "                        num_frames = wav_file.getnframes()\n",
    "                        frame_rate = wav_file.getframerate()\n",
    "                        duration = num_frames / float(frame_rate)\n",
    "                        chunksTotal += duration\n",
    "\n",
    "                print(chunksTotal)\n",
    "                \n",
    "                if actualTotal != chunksTotal:\n",
    "                    fileThatDontMatch.append([speaker, actualTotal - chunksTotal])\n",
    "\n",
    "print(\"Number of Files that dont match: \", len(fileThatDontMatch))"
   ]
  },
  {
   "cell_type": "markdown",
   "metadata": {},
   "source": [
    "## Creating Dataset Object"
   ]
  },
  {
   "cell_type": "code",
   "execution_count": null,
   "metadata": {},
   "outputs": [],
   "source": []
  }
 ],
 "metadata": {
  "kernelspec": {
   "display_name": "base",
   "language": "python",
   "name": "python3"
  },
  "language_info": {
   "codemirror_mode": {
    "name": "ipython",
    "version": 3
   },
   "file_extension": ".py",
   "mimetype": "text/x-python",
   "name": "python",
   "nbconvert_exporter": "python",
   "pygments_lexer": "ipython3",
   "version": "3.9.13"
  }
 },
 "nbformat": 4,
 "nbformat_minor": 2
}
